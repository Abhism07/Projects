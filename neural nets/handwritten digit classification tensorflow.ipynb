{
 "cells": [
  {
   "cell_type": "code",
   "execution_count": 1,
   "id": "00ef216a",
   "metadata": {},
   "outputs": [],
   "source": [
    "import pandas as pd\n",
    "import numpy as np\n",
    "import tensorflow as tf\n",
    "from tensorflow import keras\n",
    "import matplotlib.pyplot as plt\n",
    "%matplotlib inline"
   ]
  },
  {
   "cell_type": "code",
   "execution_count": 3,
   "id": "c95bd255",
   "metadata": {},
   "outputs": [
    {
     "name": "stdout",
     "output_type": "stream",
     "text": [
      "Downloading data from https://storage.googleapis.com/tensorflow/tf-keras-datasets/mnist.npz\n",
      "11493376/11490434 [==============================] - 2s 0us/step\n",
      "11501568/11490434 [==============================] - 2s 0us/step\n"
     ]
    }
   ],
   "source": [
    "(x_train,y_train),(x_test,y_test) = keras.datasets.mnist.load_data()"
   ]
  },
  {
   "cell_type": "code",
   "execution_count": 6,
   "id": "1ab73e74",
   "metadata": {},
   "outputs": [
    {
     "name": "stdout",
     "output_type": "stream",
     "text": [
      "(60000, 28, 28) (60000,)\n"
     ]
    }
   ],
   "source": [
    "print(x_train.shape , y_train.shape)"
   ]
  },
  {
   "cell_type": "code",
   "execution_count": 10,
   "id": "19ed7b6a",
   "metadata": {},
   "outputs": [],
   "source": [
    "# x_train[0]"
   ]
  },
  {
   "cell_type": "code",
   "execution_count": 31,
   "id": "0b27b09b",
   "metadata": {},
   "outputs": [],
   "source": [
    "x_train = x_train/255\n",
    "x_test = x_test/255"
   ]
  },
  {
   "cell_type": "code",
   "execution_count": null,
   "id": "5e8dab65",
   "metadata": {},
   "outputs": [],
   "source": []
  },
  {
   "cell_type": "code",
   "execution_count": 33,
   "id": "cda197ce",
   "metadata": {},
   "outputs": [
    {
     "data": {
      "text/plain": [
       "<matplotlib.image.AxesImage at 0x1a4bf857d60>"
      ]
     },
     "execution_count": 33,
     "metadata": {},
     "output_type": "execute_result"
    },
    {
     "data": {
      "image/png": "[encoded data removed]",
      "text/plain": [
       "<Figure size 480x480 with 1 Axes>"
      ]
     },
     "metadata": {},
     "output_type": "display_data"
    }
   ],
   "source": [
    "plt.matshow(x_train[5])"
   ]
  },
  {
   "cell_type": "code",
   "execution_count": 34,
   "id": "3e4077e4",
   "metadata": {},
   "outputs": [
    {
     "data": {
      "text/plain": [
       "array([5, 0, 4, 1, 9], dtype=uint8)"
      ]
     },
     "execution_count": 34,
     "metadata": {},
     "output_type": "execute_result"
    }
   ],
   "source": [
    "y_train[:5]"
   ]
  },
  {
   "cell_type": "code",
   "execution_count": 35,
   "id": "3f4e8a84",
   "metadata": {},
   "outputs": [
    {
     "data": {
      "text/plain": [
       "array([[0., 0., 0., ..., 0., 0., 0.],\n",
       "       [0., 0., 0., ..., 0., 0., 0.],\n",
       "       [0., 0., 0., ..., 0., 0., 0.],\n",
       "       ...,\n",
       "       [0., 0., 0., ..., 0., 0., 0.],\n",
       "       [0., 0., 0., ..., 0., 0., 0.],\n",
       "       [0., 0., 0., ..., 0., 0., 0.]])"
      ]
     },
     "execution_count": 35,
     "metadata": {},
     "output_type": "execute_result"
    }
   ],
   "source": [
    "x_train1d=x_train.reshape(len(x_train),28*28)\n",
    "x_test1d=x_test.reshape(len(x_test),28*28)\n",
    "x_test1d"
   ]
  },
  {
   "cell_type": "code",
   "execution_count": null,
   "id": "3135edbb",
   "metadata": {},
   "outputs": [],
   "source": []
  },
  {
   "cell_type": "code",
   "execution_count": 46,
   "id": "0e4eb34f",
   "metadata": {},
   "outputs": [
    {
     "data": {
      "text/plain": [
       "<matplotlib.image.AxesImage at 0x1a4dc58a200>"
      ]
     },
     "execution_count": 46,
     "metadata": {},
     "output_type": "execute_result"
    },
    {
     "data": {
      "image/png": "[encoded data removed]",
      "text/plain": [
       "<Figure size 480x480 with 1 Axes>"
      ]
     },
     "metadata": {},
     "output_type": "display_data"
    }
   ],
   "source": [
    "plt.matshow(x_test[5])"
   ]
  },
  {
   "cell_type": "code",
   "execution_count": 37,
   "id": "47c135c3",
   "metadata": {},
   "outputs": [
    {
     "name": "stdout",
     "output_type": "stream",
     "text": [
      "Epoch 1/7\n",
      "1875/1875 [==============================] - 9s 5ms/step - loss: 0.4650 - accuracy: 0.8780\n",
      "Epoch 2/7\n",
      "1875/1875 [==============================] - 9s 5ms/step - loss: 0.3033 - accuracy: 0.9149\n",
      "Epoch 3/7\n",
      "1875/1875 [==============================] - 9s 5ms/step - loss: 0.2829 - accuracy: 0.9213\n",
      "Epoch 4/7\n",
      "1875/1875 [==============================] - 9s 5ms/step - loss: 0.2729 - accuracy: 0.9239\n",
      "Epoch 5/7\n",
      "1875/1875 [==============================] - 9s 5ms/step - loss: 0.2663 - accuracy: 0.9258\n",
      "Epoch 6/7\n",
      "1875/1875 [==============================] - 9s 5ms/step - loss: 0.2615 - accuracy: 0.9275\n",
      "Epoch 7/7\n",
      "1875/1875 [==============================] - 9s 5ms/step - loss: 0.2581 - accuracy: 0.9290\n"
     ]
    },
    {
     "data": {
      "text/plain": [
       "<keras.callbacks.History at 0x1a4dc4d38e0>"
      ]
     },
     "execution_count": 37,
     "metadata": {},
     "output_type": "execute_result"
    }
   ],
   "source": [
    "model = keras.Sequential([keras.layers.Dense(10,input_shape=(784,),activation = 'sigmoid')])\n",
    "model.compile(optimizer = 'adam',loss = 'sparse_categorical_crossentropy',metrics=['accuracy'])\n",
    "model.fit(x_train1d,y_train,epochs=7)"
   ]
  },
  {
   "cell_type": "code",
   "execution_count": 39,
   "id": "422992a8",
   "metadata": {},
   "outputs": [],
   "source": [
    "y_pred = model.predict(x_test1d)"
   ]
  },
  {
   "cell_type": "code",
   "execution_count": 40,
   "id": "fef0ea46",
   "metadata": {},
   "outputs": [
    {
     "data": {
      "text/plain": [
       "array([1.08171701e-02, 6.89934723e-08, 3.76285315e-02, 9.63550329e-01,\n",
       "       1.08465552e-03, 1.08935535e-01, 4.92001504e-07, 9.99829412e-01,\n",
       "       9.84446108e-02, 5.07279038e-01], dtype=float32)"
      ]
     },
     "execution_count": 40,
     "metadata": {},
     "output_type": "execute_result"
    }
   ],
   "source": [
    "y_pred[0]"
   ]
  },
  {
   "cell_type": "code",
   "execution_count": 51,
   "id": "bf23a489",
   "metadata": {},
   "outputs": [],
   "source": [
    "y_pred_lables = [np.argmax(i) for i in y_pred]"
   ]
  },
  {
   "cell_type": "code",
   "execution_count": 45,
   "id": "20ed60db",
   "metadata": {},
   "outputs": [
    {
     "data": {
      "text/plain": [
       "1"
      ]
     },
     "execution_count": 45,
     "metadata": {},
     "output_type": "execute_result"
    }
   ],
   "source": [
    "np.argmax(y_pred[5])"
   ]
  },
  {
   "cell_type": "code",
   "execution_count": 59,
   "id": "a72b8c1f",
   "metadata": {},
   "outputs": [],
   "source": [
    "from sklearn.metrics import confusion_matrix,classification_report"
   ]
  },
  {
   "cell_type": "code",
   "execution_count": 57,
   "id": "559be1d0",
   "metadata": {},
   "outputs": [
    {
     "data": {
      "text/plain": [
       "array([[ 960,    0,    2,    2,    0,    5,    8,    2,    1,    0],\n",
       "       [   0, 1110,    3,    2,    0,    1,    4,    2,   13,    0],\n",
       "       [   4,    8,  931,   13,    7,    4,   14,    9,   40,    2],\n",
       "       [   2,    0,   21,  916,    0,   26,    4,   11,   24,    6],\n",
       "       [   1,    1,    4,    2,  902,    0,   17,    4,   12,   39],\n",
       "       [   7,    2,    2,   31,    7,  787,   16,    7,   30,    3],\n",
       "       [   7,    3,    4,    1,    7,   12,  920,    2,    2,    0],\n",
       "       [   1,    6,   24,    6,    6,    1,    0,  955,    4,   25],\n",
       "       [   6,    5,    7,   19,    8,   24,   11,   13,  876,    5],\n",
       "       [  11,    7,    1,    9,   25,   10,    0,   30,   11,  905]],\n",
       "      dtype=int64)"
      ]
     },
     "execution_count": 57,
     "metadata": {},
     "output_type": "execute_result"
    }
   ],
   "source": [
    "cf = confusion_matrix(y_test,y_pred_lables)\n",
    "cf"
   ]
  },
  {
   "cell_type": "code",
   "execution_count": 54,
   "id": "42adf5d4",
   "metadata": {},
   "outputs": [],
   "source": [
    "import seaborn as sns"
   ]
  },
  {
   "cell_type": "code",
   "execution_count": 58,
   "id": "1e73ef03",
   "metadata": {},
   "outputs": [
    {
     "data": {
      "text/plain": [
       "<AxesSubplot:>"
      ]
     },
     "execution_count": 58,
     "metadata": {},
     "output_type": "execute_result"
    },
    {
     "data": {
      "image/png": "[encoded data removed]",
      "text/plain": [
       "<Figure size 640x480 with 2 Axes>"
      ]
     },
     "metadata": {},
     "output_type": "display_data"
    }
   ],
   "source": [
    "sns.heatmap(cf,annot=True,fmt='d')"
   ]
  },
  {
   "cell_type": "code",
   "execution_count": 62,
   "id": "4e41a379",
   "metadata": {},
   "outputs": [
    {
     "name": "stdout",
     "output_type": "stream",
     "text": [
      "Epoch 1/7\n",
      "1875/1875 [==============================] - 9s 5ms/step - loss: 0.2792 - accuracy: 0.9209\n",
      "Epoch 2/7\n",
      "1875/1875 [==============================] - 10s 5ms/step - loss: 0.1271 - accuracy: 0.9625\n",
      "Epoch 3/7\n",
      "1875/1875 [==============================] - 10s 5ms/step - loss: 0.0879 - accuracy: 0.9740\n",
      "Epoch 4/7\n",
      "1875/1875 [==============================] - 11s 6ms/step - loss: 0.0675 - accuracy: 0.9793\n",
      "Epoch 5/7\n",
      "1875/1875 [==============================] - 10s 5ms/step - loss: 0.0529 - accuracy: 0.9839\n",
      "Epoch 6/7\n",
      "1875/1875 [==============================] - 11s 6ms/step - loss: 0.0415 - accuracy: 0.9873\n",
      "Epoch 7/7\n",
      "1875/1875 [==============================] - 11s 6ms/step - loss: 0.0349 - accuracy: 0.9897\n"
     ]
    },
    {
     "data": {
      "text/plain": [
       "<keras.callbacks.History at 0x1a4ddf16020>"
      ]
     },
     "execution_count": 62,
     "metadata": {},
     "output_type": "execute_result"
    }
   ],
   "source": [
    "model = keras.Sequential([\n",
    "    keras.layers.Dense(100,input_shape=(784,),activation = 'relu'),\n",
    "    keras.layers.Dense(10,activation='sigmoid')\n",
    "])\n",
    "model.compile(optimizer = 'adam',loss = 'sparse_categorical_crossentropy',metrics=['accuracy'])\n",
    "model.fit(x_train1d,y_train,epochs=7)"
   ]
  },
  {
   "cell_type": "code",
   "execution_count": 79,
   "id": "02abd3c7",
   "metadata": {},
   "outputs": [
    {
     "name": "stdout",
     "output_type": "stream",
     "text": [
      "313/313 [==============================] - 1s 3ms/step - loss: 0.0776 - accuracy: 0.9775\n"
     ]
    },
    {
     "data": {
      "text/plain": [
       "[0.07764667272567749, 0.9775000214576721]"
      ]
     },
     "execution_count": 79,
     "metadata": {},
     "output_type": "execute_result"
    }
   ],
   "source": [
    "model.evaluate(x_test,y_test)"
   ]
  },
  {
   "cell_type": "code",
   "execution_count": 71,
   "id": "10c445a6",
   "metadata": {},
   "outputs": [],
   "source": [
    "y_pred = model.predict(x_test1d)\n",
    "y_pred_lables = [np.argmax(i) for i in y_pred]"
   ]
  },
  {
   "cell_type": "code",
   "execution_count": 72,
   "id": "9f3bd3cd",
   "metadata": {},
   "outputs": [
    {
     "data": {
      "text/plain": [
       "array([[ 971,    0,    0,    1,    3,    0,    2,    1,    1,    1],\n",
       "       [   0, 1126,    3,    0,    0,    0,    2,    1,    3,    0],\n",
       "       [   2,    1, 1016,    0,    1,    0,    1,    5,    5,    1],\n",
       "       [   0,    0,    4,  989,    1,    5,    0,    5,    3,    3],\n",
       "       [   1,    0,    5,    0,  967,    0,    3,    2,    0,    4],\n",
       "       [   2,    0,    0,   12,    3,  866,    3,    2,    3,    1],\n",
       "       [   5,    3,    4,    1,    5,    2,  937,    0,    1,    0],\n",
       "       [   0,    4,   11,    2,    2,    0,    0,  999,    0,   10],\n",
       "       [   6,    0,    7,    3,    5,    2,    2,    2,  941,    6],\n",
       "       [   1,    5,    0,    5,   12,    3,    1,    6,    2,  974]],\n",
       "      dtype=int64)"
      ]
     },
     "execution_count": 72,
     "metadata": {},
     "output_type": "execute_result"
    }
   ],
   "source": [
    "cf2 = confusion_matrix(y_test,y_pred_lables)\n",
    "cf2"
   ]
  },
  {
   "cell_type": "code",
   "execution_count": 74,
   "id": "d444f7b5",
   "metadata": {},
   "outputs": [
    {
     "data": {
      "text/plain": [
       "<AxesSubplot:>"
      ]
     },
     "execution_count": 74,
     "metadata": {},
     "output_type": "execute_result"
    },
    {
     "data": {
      "image/png": "[encoded data removed]",
      "text/plain": [
       "<Figure size 640x480 with 2 Axes>"
      ]
     },
     "metadata": {},
     "output_type": "display_data"
    }
   ],
   "source": [
    "sns.heatmap(cf2,annot=True,fmt='d')"
   ]
  },
  {
   "cell_type": "markdown",
   "id": "099f950c",
   "metadata": {},
   "source": [
    "If you dont want to flatten x_train 2d array keras already have a fuction to flatten the array on its own."
   ]
  },
  {
   "cell_type": "code",
   "execution_count": 90,
   "id": "27668a00",
   "metadata": {},
   "outputs": [
    {
     "name": "stdout",
     "output_type": "stream",
     "text": [
      "Epoch 1/7\n",
      "1875/1875 [==============================] - 10s 5ms/step - loss: 0.2763 - accuracy: 0.9206\n",
      "Epoch 2/7\n",
      "1875/1875 [==============================] - 11s 6ms/step - loss: 0.1268 - accuracy: 0.9633\n",
      "Epoch 3/7\n",
      "1875/1875 [==============================] - 11s 6ms/step - loss: 0.0883 - accuracy: 0.9736\n",
      "Epoch 4/7\n",
      "1875/1875 [==============================] - 11s 6ms/step - loss: 0.0663 - accuracy: 0.9801\n",
      "Epoch 5/7\n",
      "1875/1875 [==============================] - 11s 6ms/step - loss: 0.0519 - accuracy: 0.9845\n",
      "Epoch 6/7\n",
      "1875/1875 [==============================] - 11s 6ms/step - loss: 0.0422 - accuracy: 0.9867\n",
      "Epoch 7/7\n",
      "1875/1875 [==============================] - 11s 6ms/step - loss: 0.0333 - accuracy: 0.9901\n"
     ]
    },
    {
     "data": {
      "text/plain": [
       "<keras.callbacks.History at 0x1a4ddfd2530>"
      ]
     },
     "execution_count": 90,
     "metadata": {},
     "output_type": "execute_result"
    }
   ],
   "source": [
    "model = keras.Sequential([\n",
    "    keras.layers.Flatten(input_shape=(28,28)),\n",
    "    keras.layers.Dense(100,activation = 'relu'),\n",
    "    keras.layers.Dense(10,activation='sigmoid')\n",
    "])\n",
    "model.compile(optimizer = 'adam',loss = 'sparse_categorical_crossentropy',metrics=['accuracy'])\n",
    "model.fit(x_train,y_train,epochs=7)"
   ]
  },
  {
   "cell_type": "code",
   "execution_count": 91,
   "id": "61810692",
   "metadata": {},
   "outputs": [
    {
     "name": "stdout",
     "output_type": "stream",
     "text": [
      "313/313 [==============================] - 1s 2ms/step - loss: 0.0766 - accuracy: 0.9777\n"
     ]
    },
    {
     "data": {
      "text/plain": [
       "[0.07660660147666931, 0.9776999950408936]"
      ]
     },
     "execution_count": 91,
     "metadata": {},
     "output_type": "execute_result"
    }
   ],
   "source": [
    "model.evaluate(x_test,y_test)"
   ]
  },
  {
   "cell_type": "code",
   "execution_count": null,
   "id": "0d2a0c27",
   "metadata": {},
   "outputs": [],
   "source": []
  }
 ],
 "metadata": {
  "kernelspec": {
   "display_name": "Python 3 (ipykernel)",
   "language": "python",
   "name": "python3"
  },
  "language_info": {
   "codemirror_mode": {
    "name": "ipython",
    "version": 3
   },
   "file_extension": ".py",
   "mimetype": "text/x-python",
   "name": "python",
   "nbconvert_exporter": "python",
   "pygments_lexer": "ipython3",
   "version": "3.10.3"
  }
 },
 "nbformat": 4,
 "nbformat_minor": 5
}
