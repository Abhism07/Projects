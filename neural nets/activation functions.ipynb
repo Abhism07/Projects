{
 "cells": [
  {
   "cell_type": "markdown",
   "id": "8ff4db9f",
   "metadata": {},
   "source": [
    "# Activation functions"
   ]
  },
  {
   "attachments": {
    "download.png": {
     "image/png": "[encoded data removed]"
    }
   },
   "cell_type": "markdown",
   "id": "f0243a01",
   "metadata": {},
   "source": [
    "A Sigmoid function is a mathematical function which has a characteristic S-shaped curve.sigmoid function is normally used to refer specifically to the logistic function, also called the logistic sigmoid function.\n",
    "All sigmoid functions have the property that they map the entire number line into a small range such as between 0 and 1, or -1 and 1, so one use of a sigmoid function is to convert a real value into one that can be interpreted as a probability.![download.png](attachment:download.png)"
   ]
  },
  {
   "cell_type": "code",
   "execution_count": null,
   "id": "e6d8198e",
   "metadata": {},
   "outputs": [],
   "source": [
    "import math\n",
    "def sigmoid(x):\n",
    "    return 1/(1+math.exp(-x))"
   ]
  },
  {
   "cell_type": "code",
   "execution_count": 13,
   "id": "5c17c792",
   "metadata": {},
   "outputs": [
    {
     "data": {
      "text/plain": [
       "0.0066928509242848554"
      ]
     },
     "execution_count": 13,
     "metadata": {},
     "output_type": "execute_result"
    }
   ],
   "source": [
    "sigmoid(-5)"
   ]
  },
  {
   "attachments": {
    "download%20%281%29.png": {
     "image/png": "[encoded data removed]"
    }
   },
   "cell_type": "markdown",
   "id": "34bfac61",
   "metadata": {},
   "source": [
    "The hyperbolic tangent activation function is also referred to simply as the Tanh (also “tanh” and “TanH“) function.\n",
    "\n",
    "It is very similar to the sigmoid activation function and even has the same S-shape.\n",
    "\n",
    "The function takes any real value as input and outputs values in the range -1 to 1. The larger the input (more positive), the closer the output value will be to 1.0, whereas the smaller the input (more negative), the closer the output will be to -1.0.\n",
    "\n",
    "The Tanh activation function is calculated as follows:\n",
    "\n",
    "(e^x – e^-x) / (e^x + e^-x)\n",
    "![download%20%281%29.png](attachment:download%20%281%29.png)"
   ]
  },
  {
   "cell_type": "code",
   "execution_count": 14,
   "id": "6310e45f",
   "metadata": {},
   "outputs": [],
   "source": [
    "def tanh(x):\n",
    "    return (math.exp(x)-math.exp(-x)) / (math.exp(x)+math.exp(-x))"
   ]
  },
  {
   "cell_type": "code",
   "execution_count": 15,
   "id": "944e7136",
   "metadata": {},
   "outputs": [
    {
     "data": {
      "text/plain": [
       "-1.0"
      ]
     },
     "execution_count": 15,
     "metadata": {},
     "output_type": "execute_result"
    }
   ],
   "source": [
    "tanh(-56)"
   ]
  },
  {
   "cell_type": "code",
   "execution_count": 16,
   "id": "45f1fd1b",
   "metadata": {},
   "outputs": [
    {
     "data": {
      "text/plain": [
       "1.0"
      ]
     },
     "execution_count": 16,
     "metadata": {},
     "output_type": "execute_result"
    }
   ],
   "source": [
    "tanh(25)"
   ]
  },
  {
   "attachments": {
    "download%20%283%29.png": {
     "image/png": "[encoded data removed]"
    }
   },
   "cell_type": "markdown",
   "id": "e6e9da46",
   "metadata": {},
   "source": [
    "As we mentioned earlier, the tanh function is a stretched and shifted version of the sigmoid. Therefore, there are a lot of similarities.\n",
    "\n",
    "Both functions belong to the S-like functions that suppress the input value to a bounded range. This helps the network to keep its weights bounded and prevents the exploding gradient problem where the value of the gradients becomes very large\n",
    "When we are using these activation functions in a neural network, our data are usually centered around zero. So, we should focus our attention on the behavior of each gradient in the region near zero.\n",
    "\n",
    "We observe that the gradient of tanh is four times greater than the gradient of the sigmoid function. This means that using the tanh activation function results in higher values of gradient during training and higher updates in the weights of the network. So, if we want strong gradients and big learning steps, we should use the tanh activation function.\n",
    "\n",
    "Another difference is that the output of tanh is symmetric around zero leading to faster convergence.\n",
    "Despite their benefits, both functions present the so-called vanishing gradient problem.\n",
    "\n",
    "In neural networks, the error is backpropagated through the hidden layers of the network and updates the weights. In case we have a very deep neural network and bounded activation functions like the ones above, the amount of error decreases dramatically after it is backpropagated through each hidden layer. So, at the early layers, the error is almost zero, and the weights of these layers are not updated properly. The ReLU activation function can fix the vanishing gradient problem.\n",
    "![download%20%283%29.png](attachment:download%20%283%29.png)\n"
   ]
  },
  {
   "attachments": {
    "download%20%284%29.png": {
     "image/png": "[encoded data removed]"
    }
   },
   "cell_type": "markdown",
   "id": "0e44e592",
   "metadata": {},
   "source": [
    "The rectified linear activation function, or ReLU activation function, is perhaps the most common function used for hidden layers.\n",
    "\n",
    "It is common because it is both simple to implement and effective at overcoming the limitations of other previously popular activation functions, such as Sigmoid and Tanh. Specifically, it is less susceptible to vanishing gradients that prevent deep models from being trained, although it can suffer from other problems like saturated or “dead” units.\n",
    "\n",
    "The ReLU function is calculated as follows:\n",
    "\n",
    "max(0.0, x)\n",
    "This means that if the input value (x) is negative, then a value 0.0 is returned, otherwise, the value is returned.\n",
    "![download%20%284%29.png](attachment:download%20%284%29.png)"
   ]
  },
  {
   "cell_type": "code",
   "execution_count": 17,
   "id": "d3209273",
   "metadata": {},
   "outputs": [],
   "source": [
    "def relu(x):\n",
    "    return max(0,x)"
   ]
  },
  {
   "cell_type": "code",
   "execution_count": 18,
   "id": "c9bb055e",
   "metadata": {},
   "outputs": [
    {
     "data": {
      "text/plain": [
       "100"
      ]
     },
     "execution_count": 18,
     "metadata": {},
     "output_type": "execute_result"
    }
   ],
   "source": [
    "relu(100)"
   ]
  },
  {
   "cell_type": "code",
   "execution_count": 19,
   "id": "f9ce43fb",
   "metadata": {},
   "outputs": [
    {
     "data": {
      "text/plain": [
       "0"
      ]
     },
     "execution_count": 19,
     "metadata": {},
     "output_type": "execute_result"
    }
   ],
   "source": [
    "relu(-100)"
   ]
  },
  {
   "attachments": {
    "download%20%285%29.png": {
     "image/png": "[encoded data removed]"
    }
   },
   "cell_type": "markdown",
   "id": "36621e37",
   "metadata": {},
   "source": [
    "Leaky ReLU function is an improved version of the ReLU activation function. As for the ReLU activation function, the gradient is 0 for all the values of inputs that are less than zero, which would deactivate the neurons in that region and may cause dying ReLU problem.\n",
    "\n",
    "Leaky ReLU is defined to address this problem. Instead of defining the ReLU activation function as 0 for negative values of inputs(x), we define it as an extremely small linear component of x. Here is the formula for this activation function\n",
    "\n",
    "f(x)=max(0.01*x , x).\n",
    "![download%20%285%29.png](attachment:download%20%285%29.png)\n"
   ]
  },
  {
   "cell_type": "code",
   "execution_count": 21,
   "id": "f9622769",
   "metadata": {},
   "outputs": [],
   "source": [
    "def leaky_relu(x):\n",
    "    return max(0.1*x,x)"
   ]
  },
  {
   "cell_type": "code",
   "execution_count": 22,
   "id": "ce847803",
   "metadata": {},
   "outputs": [
    {
     "data": {
      "text/plain": [
       "-10.0"
      ]
     },
     "execution_count": 22,
     "metadata": {},
     "output_type": "execute_result"
    }
   ],
   "source": [
    "leaky_relu(-100)"
   ]
  },
  {
   "attachments": {
    "download%20%286%29.png": {
     "image/png": "[encoded data removed]"
    }
   },
   "cell_type": "markdown",
   "id": "3eaf6318",
   "metadata": {},
   "source": [
    "![download%20%286%29.png](attachment:download%20%286%29.png)"
   ]
  },
  {
   "cell_type": "code",
   "execution_count": 34,
   "id": "4fd0f05c",
   "metadata": {},
   "outputs": [],
   "source": [
    "import matplotlib.pyplot as plt"
   ]
  },
  {
   "cell_type": "code",
   "execution_count": 40,
   "id": "74892689",
   "metadata": {},
   "outputs": [
    {
     "name": "stdout",
     "output_type": "stream",
     "text": [
      "m 4.96 ,   b 1.44, cost 89.0, iteration 0\n",
      "m 0.4991999999999983 ,   b 0.26879999999999993, cost 71.10560000000002, iteration 1\n",
      "m 4.451584000000002 ,   b 1.426176000000001, cost 56.8297702400001, iteration 2\n",
      "m 0.892231679999997 ,   b 0.5012275199999995, cost 45.43965675929613, iteration 3\n",
      "m 4.041314713600002 ,   b 1.432759910400001, cost 36.35088701894832, iteration 4\n",
      "m 1.2008760606719973 ,   b 0.7036872622079998, cost 29.097483330142282, iteration 5\n",
      "m 3.7095643080294423 ,   b 1.4546767911321612, cost 23.307872849944438, iteration 6\n",
      "m 1.4424862661541864 ,   b 0.881337636696883, cost 18.685758762535738, iteration 7\n",
      "m 3.4406683721083144 ,   b 1.4879302070713722, cost 14.994867596913156, iteration 8\n",
      "m 1.6308855378034224 ,   b 1.0383405553279617, cost 12.046787238456794, iteration 9\n"
     ]
    }
   ],
   "source": [
    "import numpy as np\n",
    "def gradient_des(x,y):\n",
    "    m_curr = b_curr =0\n",
    "    it = 10\n",
    "    n=len(x)\n",
    "    learning_r =0.08\n",
    "    #plt.scatter(x,y,color='red',linewidth='5')\n",
    "    for i in range (it):\n",
    "        yp = m_curr * x +b_curr\n",
    "        cost =(1/n) * sum([val**2 for val in (y-yp)])\n",
    "        #plt.plot(x,yp,color='green')\n",
    "        md = -(2/n) * sum(x*(y-yp))\n",
    "        bd = -(2/n) * sum(y-yp)\n",
    "        m_curr = m_curr - learning_r * md\n",
    "        b_curr = b_curr - learning_r *bd\n",
    "        print(\"m {} ,   b {}, cost {}, iteration {}\".format(m_curr,b_curr,cost,i))\n",
    "    \n",
    "\n",
    "x=np.array([1,2,3,4,5])\n",
    "y=np.array([5,7,9,11,13])\n",
    "\n",
    "\n",
    "gradient_des(x,y)"
   ]
  },
  {
   "cell_type": "code",
   "execution_count": null,
   "id": "4d88cf7f",
   "metadata": {},
   "outputs": [],
   "source": []
  }
 ],
 "metadata": {
  "kernelspec": {
   "display_name": "Python 3 (ipykernel)",
   "language": "python",
   "name": "python3"
  },
  "language_info": {
   "codemirror_mode": {
    "name": "ipython",
    "version": 3
   },
   "file_extension": ".py",
   "mimetype": "text/x-python",
   "name": "python",
   "nbconvert_exporter": "python",
   "pygments_lexer": "ipython3",
   "version": "3.10.3"
  }
 },
 "nbformat": 4,
 "nbformat_minor": 5
}
